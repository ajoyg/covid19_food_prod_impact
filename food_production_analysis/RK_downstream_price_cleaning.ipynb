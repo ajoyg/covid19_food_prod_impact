{
 "cells": [
  {
   "cell_type": "code",
   "execution_count": 26,
   "id": "3bb88a71",
   "metadata": {},
   "outputs": [],
   "source": [
    "#import dependencies\n",
    "import pandas as pd\n",
    "import numpy as np\n",
    "from pathlib import Path\n"
   ]
  },
  {
   "cell_type": "code",
   "execution_count": 27,
   "id": "a5880966",
   "metadata": {},
   "outputs": [],
   "source": [
    "# establish a connection to the data\n",
    "pork_data_path = Path(\"Resources/pork_historical_value.csv\")\n",
    "beef_data_path = Path(\"Resources/Beef_historical_value.csv\")\n",
    "outlet_sale_data_path = Path(\"Resources/Monthly_sales_by_outlet.csv\")\n",
    "\n",
    "#read data and store as a pandas data frame\n",
    "pork_data = pd.read_csv(pork_data_path)\n",
    "beef_data = pd.read_csv(beef_data_path)\n",
    "outlet_sale_data = pd.read_csv(outlet_sale_data_path)\n",
    "\n",
    "#drop empty rows\n",
    "pork_data = pork_data.drop(index=0)\n",
    "beef_data = beef_data.drop(index=0)"
   ]
  },
  {
   "cell_type": "code",
   "execution_count": 28,
   "id": "d0cd0da9",
   "metadata": {},
   "outputs": [],
   "source": [
    "# trim the data frames to isolate columns that will be used\n",
    "pork_data = pork_data.loc[:, ~pork_data.columns.isin(['Farm-wholesale', 'Total', 'Wholesale-retail', 'Byproduct', 'Gross farm value'])]\n",
    "beef_data = beef_data.loc[:, ~beef_data.columns.isin(['Farm-wholesale', 'Total', 'Wholesale-retail', 'Byproduct', 'Gross farm value'])]\n",
    "\n",
    "pork_df = pd.DataFrame(pork_data)\n",
    "beef_df = pd.DataFrame(beef_data)"
   ]
  },
  {
   "cell_type": "code",
   "execution_count": 29,
   "id": "5ef985c3",
   "metadata": {},
   "outputs": [],
   "source": [
    "#filter data to find points after 2000\n",
    "pork_df = pork_data.set_index('date')\n",
    "beef_df = beef_data.set_index('date')\n",
    "\n",
    "start_date = '1/1/2000'\n",
    "\n",
    "pork_filtered = pork_df.loc[start_date:]\n",
    "beef_filtered = beef_df.loc[start_date:]"
   ]
  },
  {
   "cell_type": "code",
   "execution_count": 32,
   "id": "79c2e1d6",
   "metadata": {},
   "outputs": [],
   "source": [
    "#export data to staging folder\n",
    "pork_filtered.to_csv(\"staging/pork_historical_cleaned.csv\")\n",
    "beef_filtered.to_csv(\"staging/beef_historical_cleaned.csv\")\n",
    "outlet_sale_data.to_csv(\"staging/monthly_sales_by_outlet_cleaned.csv\")"
   ]
  },
  {
   "cell_type": "code",
   "execution_count": null,
   "id": "47e52af9",
   "metadata": {},
   "outputs": [],
   "source": []
  }
 ],
 "metadata": {
  "kernelspec": {
   "display_name": "PythonData",
   "language": "python",
   "name": "pythondata"
  },
  "language_info": {
   "codemirror_mode": {
    "name": "ipython",
    "version": 3
   },
   "file_extension": ".py",
   "mimetype": "text/x-python",
   "name": "python",
   "nbconvert_exporter": "python",
   "pygments_lexer": "ipython3",
   "version": "3.7.7"
  }
 },
 "nbformat": 4,
 "nbformat_minor": 5
}
