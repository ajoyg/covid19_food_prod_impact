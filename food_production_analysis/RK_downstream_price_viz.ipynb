{
 "cells": [
  {
   "cell_type": "code",
   "execution_count": 1,
   "id": "87f28734",
   "metadata": {},
   "outputs": [],
   "source": [
    "#import dependencies\n",
    "import pandas as pd\n",
    "import numpy as np\n",
    "from pathlib import Path\n",
    "import matplotlib.pyplot as plt\n",
    "%matplotlib inline"
   ]
  },
  {
   "cell_type": "code",
   "execution_count": 7,
   "id": "17b52d5d",
   "metadata": {},
   "outputs": [
    {
     "data": {
      "text/html": [
       "<div>\n",
       "<style scoped>\n",
       "    .dataframe tbody tr th:only-of-type {\n",
       "        vertical-align: middle;\n",
       "    }\n",
       "\n",
       "    .dataframe tbody tr th {\n",
       "        vertical-align: top;\n",
       "    }\n",
       "\n",
       "    .dataframe thead th {\n",
       "        text-align: right;\n",
       "    }\n",
       "</style>\n",
       "<table border=\"1\" class=\"dataframe\">\n",
       "  <thead>\n",
       "    <tr style=\"text-align: right;\">\n",
       "      <th></th>\n",
       "      <th>date</th>\n",
       "      <th>Net farm value</th>\n",
       "      <th>Wholesale value</th>\n",
       "      <th>Retail value</th>\n",
       "      <th>year</th>\n",
       "    </tr>\n",
       "  </thead>\n",
       "  <tbody>\n",
       "    <tr>\n",
       "      <th>0</th>\n",
       "      <td>2000-01-01</td>\n",
       "      <td>146.0</td>\n",
       "      <td>177.5</td>\n",
       "      <td>294.7</td>\n",
       "      <td>2000</td>\n",
       "    </tr>\n",
       "    <tr>\n",
       "      <th>1</th>\n",
       "      <td>2000-02-01</td>\n",
       "      <td>146.5</td>\n",
       "      <td>174.5</td>\n",
       "      <td>293.6</td>\n",
       "      <td>2000</td>\n",
       "    </tr>\n",
       "    <tr>\n",
       "      <th>2</th>\n",
       "      <td>2000-03-01</td>\n",
       "      <td>154.2</td>\n",
       "      <td>183.3</td>\n",
       "      <td>297.9</td>\n",
       "      <td>2000</td>\n",
       "    </tr>\n",
       "    <tr>\n",
       "      <th>3</th>\n",
       "      <td>2000-04-01</td>\n",
       "      <td>158.9</td>\n",
       "      <td>191.0</td>\n",
       "      <td>305.4</td>\n",
       "      <td>2000</td>\n",
       "    </tr>\n",
       "    <tr>\n",
       "      <th>4</th>\n",
       "      <td>2000-05-01</td>\n",
       "      <td>153.2</td>\n",
       "      <td>193.8</td>\n",
       "      <td>308.8</td>\n",
       "      <td>2000</td>\n",
       "    </tr>\n",
       "    <tr>\n",
       "      <th>...</th>\n",
       "      <td>...</td>\n",
       "      <td>...</td>\n",
       "      <td>...</td>\n",
       "      <td>...</td>\n",
       "      <td>...</td>\n",
       "    </tr>\n",
       "    <tr>\n",
       "      <th>271</th>\n",
       "      <td>2022-08-01</td>\n",
       "      <td>302.4</td>\n",
       "      <td>397.5</td>\n",
       "      <td>757.6</td>\n",
       "      <td>2022</td>\n",
       "    </tr>\n",
       "    <tr>\n",
       "      <th>272</th>\n",
       "      <td>2022-09-01</td>\n",
       "      <td>302.9</td>\n",
       "      <td>380.5</td>\n",
       "      <td>760.1</td>\n",
       "      <td>2022</td>\n",
       "    </tr>\n",
       "    <tr>\n",
       "      <th>273</th>\n",
       "      <td>2022-10-01</td>\n",
       "      <td>312.5</td>\n",
       "      <td>378.7</td>\n",
       "      <td>742.2</td>\n",
       "      <td>2022</td>\n",
       "    </tr>\n",
       "    <tr>\n",
       "      <th>274</th>\n",
       "      <td>2022-11-01</td>\n",
       "      <td>325.2</td>\n",
       "      <td>389.2</td>\n",
       "      <td>736.5</td>\n",
       "      <td>2022</td>\n",
       "    </tr>\n",
       "    <tr>\n",
       "      <th>275</th>\n",
       "      <td>2022-12-01</td>\n",
       "      <td>334.8</td>\n",
       "      <td>394.8</td>\n",
       "      <td>745.0</td>\n",
       "      <td>2022</td>\n",
       "    </tr>\n",
       "  </tbody>\n",
       "</table>\n",
       "<p>276 rows × 5 columns</p>\n",
       "</div>"
      ],
      "text/plain": [
       "          date  Net farm value  Wholesale value  Retail value  year\n",
       "0   2000-01-01           146.0            177.5         294.7  2000\n",
       "1   2000-02-01           146.5            174.5         293.6  2000\n",
       "2   2000-03-01           154.2            183.3         297.9  2000\n",
       "3   2000-04-01           158.9            191.0         305.4  2000\n",
       "4   2000-05-01           153.2            193.8         308.8  2000\n",
       "..         ...             ...              ...           ...   ...\n",
       "271 2022-08-01           302.4            397.5         757.6  2022\n",
       "272 2022-09-01           302.9            380.5         760.1  2022\n",
       "273 2022-10-01           312.5            378.7         742.2  2022\n",
       "274 2022-11-01           325.2            389.2         736.5  2022\n",
       "275 2022-12-01           334.8            394.8         745.0  2022\n",
       "\n",
       "[276 rows x 5 columns]"
      ]
     },
     "execution_count": 7,
     "metadata": {},
     "output_type": "execute_result"
    }
   ],
   "source": [
    "# establish a connection to the data\n",
    "pork_data_path = Path(\"staging/pork_historical_cleaned.csv\")\n",
    "beef_data_path = Path(\"staging/Beef_historical_cleaned.csv\")\n",
    "\n",
    "\n",
    "#read data and store as a pandas data frame\n",
    "pork_data = pd.read_csv(pork_data_path)\n",
    "beef_data = pd.read_csv(beef_data_path)\n",
    "\n",
    "#reformat date\n",
    "pork_data['date'] = pd.to_datetime(pork_data['date'])\n",
    "pork_data['year'] = pork_data['date'].dt.year\n",
    "\n",
    "beef_data['date'] = pd.to_datetime(beef_data['date'])\n",
    "beef_data['year'] = beef_data['date'].dt.year\n",
    "\n",
    "beef_data"
   ]
  },
  {
   "cell_type": "code",
   "execution_count": 23,
   "id": "092e9f4f",
   "metadata": {},
   "outputs": [],
   "source": [
    "#groupby year for each price\n",
    "pork_data_group_mean = pork_data.groupby(['year']).mean()[['Net farm value','Retail value', 'Wholesale value']]\n",
    "\n",
    "beef_data_group_mean = beef_data.groupby(['year']).mean()[['Net farm value','Retail value', 'Wholesale value']]\n",
    "\n"
   ]
  },
  {
   "cell_type": "code",
   "execution_count": 28,
   "id": "6bcc0146",
   "metadata": {},
   "outputs": [
    {
     "data": {
      "image/png": "[encoded data removed]",
      "text/plain": [
       "<Figure size 432x288 with 1 Axes>"
      ]
     },
     "metadata": {
      "needs_background": "light"
     },
     "output_type": "display_data"
    }
   ],
   "source": [
    "#create bar chart for pork\n",
    "pork_bar = pork_data_group_mean.plot(kind=\"bar\", color=[\"r\", \"g\", \"b\"])\n",
    "\n",
    "pork_bar.set_title(\"Cost of Pork - Farm to Consumer (U.S.)\")\n",
    "pork_bar.set_xlabel(\"Year\")\n",
    "pork_bar.set_ylabel(\"Cents per pound\")\n",
    "\n",
    "\n",
    "#export image to output folder\n",
    "plt.savefig(\"output/pork_historical_price.png\")\n",
    "plt.show()"
   ]
  },
  {
   "cell_type": "code",
   "execution_count": 29,
   "id": "3fc1b71b",
   "metadata": {},
   "outputs": [
    {
     "data": {
      "image/png": "[encoded data removed]",
      "text/plain": [
       "<Figure size 432x288 with 1 Axes>"
      ]
     },
     "metadata": {
      "needs_background": "light"
     },
     "output_type": "display_data"
    }
   ],
   "source": [
    "#create a bar chart for beef\n",
    "beef_bar = beef_data_group_mean.plot(kind=\"bar\", color=[\"r\", \"g\", \"b\"])\n",
    "\n",
    "beef_bar.set_title(\"Cost of Beef - Farm to Consumer (U.S.)\")\n",
    "beef_bar.set_xlabel(\"Year\")\n",
    "beef_bar.set_ylabel(\"Cents per pound\")\n",
    "\n",
    "#export\n",
    "plt.savefig(\"output/beef_historical_price.png\")\n",
    "plt.show()"
   ]
  },
  {
   "cell_type": "code",
   "execution_count": null,
   "id": "55693b6b",
   "metadata": {},
   "outputs": [],
   "source": []
  },
  {
   "cell_type": "code",
   "execution_count": null,
   "id": "cae2f438",
   "metadata": {},
   "outputs": [],
   "source": []
  }
 ],
 "metadata": {
  "kernelspec": {
   "display_name": "PythonData",
   "language": "python",
   "name": "pythondata"
  },
  "language_info": {
   "codemirror_mode": {
    "name": "ipython",
    "version": 3
   },
   "file_extension": ".py",
   "mimetype": "text/x-python",
   "name": "python",
   "nbconvert_exporter": "python",
   "pygments_lexer": "ipython3",
   "version": "3.7.7"
  }
 },
 "nbformat": 4,
 "nbformat_minor": 5
}
